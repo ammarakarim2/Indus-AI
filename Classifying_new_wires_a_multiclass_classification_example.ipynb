{
  "nbformat": 4,
  "nbformat_minor": 0,
  "metadata": {
    "colab": {
      "name": "Classifying new-wires: a multiclass classification example.ipynb",
      "version": "0.3.2",
      "provenance": [],
      "include_colab_link": true
    },
    "kernelspec": {
      "name": "python2",
      "display_name": "Python 2"
    }
  },
  "cells": [
    {
      "cell_type": "markdown",
      "metadata": {
        "id": "view-in-github",
        "colab_type": "text"
      },
      "source": [
        "<a href=\"https://colab.research.google.com/github/ammarakarim2/Indus-AI-lab-Tasks/blob/master/Classifying_new_wires_a_multiclass_classification_example.ipynb\" target=\"_parent\"><img src=\"https://colab.research.google.com/assets/colab-badge.svg\" alt=\"Open In Colab\"/></a>"
      ]
    },
    {
      "metadata": {
        "id": "Hm8ntpR_sZsR",
        "colab_type": "code",
        "colab": {
          "base_uri": "https://localhost:8080/",
          "height": 85
        },
        "outputId": "56549718-f08c-4eb5-b251-ebab931e1140"
      },
      "cell_type": "code",
      "source": [
        "from keras.datasets import reuters\n",
        "(train_data, train_labels), (test_data, test_labels) = reuters.load_data(num_words = 10000)"
      ],
      "execution_count": 1,
      "outputs": [
        {
          "output_type": "stream",
          "text": [
            "Using TensorFlow backend.\n"
          ],
          "name": "stderr"
        },
        {
          "output_type": "stream",
          "text": [
            "Downloading data from https://s3.amazonaws.com/text-datasets/reuters.npz\n",
            "2113536/2110848 [==============================] - 0s 0us/step\n",
            "2121728/2110848 [==============================] - 0s 0us/step\n"
          ],
          "name": "stdout"
        }
      ]
    },
    {
      "metadata": {
        "id": "e-Dgz4oIsmOo",
        "colab_type": "code",
        "colab": {
          "base_uri": "https://localhost:8080/",
          "height": 34
        },
        "outputId": "1be0673f-2580-4fd6-edc2-a8927ede6e16"
      },
      "cell_type": "code",
      "source": [
        "len(train_data)"
      ],
      "execution_count": 2,
      "outputs": [
        {
          "output_type": "execute_result",
          "data": {
            "text/plain": [
              "8982"
            ]
          },
          "metadata": {
            "tags": []
          },
          "execution_count": 2
        }
      ]
    },
    {
      "metadata": {
        "id": "5g4m7psGs8kA",
        "colab_type": "code",
        "colab": {
          "base_uri": "https://localhost:8080/",
          "height": 68
        },
        "outputId": "6b6abd26-aed3-4aba-d647-e1ceb0fb84d4"
      },
      "cell_type": "code",
      "source": [
        "word_index = reuters.get_word_index()\n",
        "reverse_word_index = dict([(value, key) for (key, value) in word_index.items()])\n",
        "# Note that our indices were offset by 3\n",
        "# because 0, 1 and 2 are reserved indices for \"padding\", \"start of sequence\", and \"unknown\".\n",
        "decoded_newswire = ' '.join([reverse_word_index.get(i - 3, '?') for i in train_data[0]])"
      ],
      "execution_count": 3,
      "outputs": [
        {
          "output_type": "stream",
          "text": [
            "Downloading data from https://s3.amazonaws.com/text-datasets/reuters_word_index.json\n",
            "557056/550378 [==============================] - 0s 0us/step\n",
            "565248/550378 [==============================] - 0s 0us/step\n"
          ],
          "name": "stdout"
        }
      ]
    },
    {
      "metadata": {
        "id": "jVJczekPs9xz",
        "colab_type": "code",
        "colab": {
          "base_uri": "https://localhost:8080/",
          "height": 54
        },
        "outputId": "76f01e0b-1e31-462d-d258-801d190192fa"
      },
      "cell_type": "code",
      "source": [
        "decoded_newswire"
      ],
      "execution_count": 4,
      "outputs": [
        {
          "output_type": "execute_result",
          "data": {
            "text/plain": [
              "u'? ? ? said as a result of its december acquisition of space co it expects earnings per share in 1987 of 1 15 to 1 30 dlrs per share up from 70 cts in 1986 the company said pretax net should rise to nine to 10 mln dlrs from six mln dlrs in 1986 and rental operation revenues to 19 to 22 mln dlrs from 12 5 mln dlrs it said cash flow per share this year should be 2 50 to three dlrs reuter 3'"
            ]
          },
          "metadata": {
            "tags": []
          },
          "execution_count": 4
        }
      ]
    },
    {
      "metadata": {
        "id": "OIs8AQgotCnD",
        "colab_type": "code",
        "colab": {}
      },
      "cell_type": "code",
      "source": [
        "import numpy as np\n",
        "\n",
        "def vectorize_sequences(sequences, dimension=10000):\n",
        "    results = np.zeros((len(sequences), dimension))\n",
        "    for i, sequence in enumerate(sequences):\n",
        "        results[i, sequence] = 1.\n",
        "    return results\n",
        "\n",
        "# Our vectorized training data\n",
        "x_train = vectorize_sequences(train_data)\n",
        "# Our vectorized test data\n",
        "x_test = vectorize_sequences(test_data)"
      ],
      "execution_count": 0,
      "outputs": []
    },
    {
      "metadata": {
        "id": "aJGWSSeXtT7X",
        "colab_type": "code",
        "colab": {}
      },
      "cell_type": "code",
      "source": [
        "def to_one_hot(labels, dimension=46):\n",
        "    results = np.zeros((len(labels), dimension))\n",
        "    for i, label in enumerate(labels):\n",
        "        results[i, label] = 1.\n",
        "    return results\n",
        "\n",
        "# Our vectorized training labels\n",
        "one_hot_train_labels = to_one_hot(train_labels)\n",
        "# Our vectorized test labels\n",
        "one_hot_test_labels = to_one_hot(test_labels)"
      ],
      "execution_count": 0,
      "outputs": []
    },
    {
      "metadata": {
        "id": "w-sser6wtYqu",
        "colab_type": "code",
        "colab": {}
      },
      "cell_type": "code",
      "source": [
        "from keras.utils.np_utils import to_categorical\n",
        "\n",
        "one_hot_train_labels = to_categorical(train_labels)\n",
        "one_hot_test_labels = to_categorical(test_labels)"
      ],
      "execution_count": 0,
      "outputs": []
    },
    {
      "metadata": {
        "id": "DmUxcDh8tbaM",
        "colab_type": "code",
        "colab": {}
      },
      "cell_type": "code",
      "source": [
        "from keras import models\n",
        "from keras import layers\n",
        "\n",
        "model = models.Sequential()\n",
        "model.add(layers.Dense(64, activation='relu', input_shape=(10000,)))\n",
        "model.add(layers.Dense(64, activation='relu'))\n",
        "model.add(layers.Dense(46, activation='softmax'))"
      ],
      "execution_count": 0,
      "outputs": []
    },
    {
      "metadata": {
        "id": "vg1MsZwPtsuz",
        "colab_type": "code",
        "colab": {}
      },
      "cell_type": "code",
      "source": [
        "model.compile(optimizer='rmsprop',\n",
        "              loss='categorical_crossentropy',\n",
        "              metrics=['accuracy'])"
      ],
      "execution_count": 0,
      "outputs": []
    },
    {
      "metadata": {
        "id": "A8jXn3Eotyou",
        "colab_type": "code",
        "colab": {}
      },
      "cell_type": "code",
      "source": [
        "x_val = x_train[:1000]\n",
        "partial_x_train = x_train[1000:]\n",
        "\n",
        "y_val = one_hot_train_labels[:1000]\n",
        "partial_y_train = one_hot_train_labels[1000:]"
      ],
      "execution_count": 0,
      "outputs": []
    },
    {
      "metadata": {
        "id": "jr7gwmxdt1Q8",
        "colab_type": "code",
        "colab": {
          "base_uri": "https://localhost:8080/",
          "height": 714
        },
        "outputId": "ae895f30-8a93-447b-a717-127b4db36a06"
      },
      "cell_type": "code",
      "source": [
        "history = model.fit(partial_x_train,\n",
        "                    partial_y_train,\n",
        "                    epochs=20,\n",
        "                    batch_size=512,\n",
        "                    validation_data=(x_val, y_val))"
      ],
      "execution_count": 13,
      "outputs": [
        {
          "output_type": "stream",
          "text": [
            "Train on 7982 samples, validate on 1000 samples\n",
            "Epoch 1/20\n",
            "7982/7982 [==============================] - 2s 262us/step - loss: 2.5263 - acc: 0.4961 - val_loss: 1.7195 - val_acc: 0.6100\n",
            "Epoch 2/20\n",
            "7982/7982 [==============================] - 2s 189us/step - loss: 1.4451 - acc: 0.6889 - val_loss: 1.3496 - val_acc: 0.7090\n",
            "Epoch 3/20\n",
            "7982/7982 [==============================] - 1s 168us/step - loss: 1.0978 - acc: 0.7640 - val_loss: 1.1744 - val_acc: 0.7440\n",
            "Epoch 4/20\n",
            "7982/7982 [==============================] - 1s 159us/step - loss: 0.8724 - acc: 0.8155 - val_loss: 1.0820 - val_acc: 0.7590\n",
            "Epoch 5/20\n",
            "7982/7982 [==============================] - 1s 165us/step - loss: 0.7053 - acc: 0.8489 - val_loss: 0.9869 - val_acc: 0.7860\n",
            "Epoch 6/20\n",
            "7982/7982 [==============================] - 1s 164us/step - loss: 0.5664 - acc: 0.8792 - val_loss: 0.9429 - val_acc: 0.8040\n",
            "Epoch 7/20\n",
            "7982/7982 [==============================] - 1s 163us/step - loss: 0.4589 - acc: 0.9042 - val_loss: 0.9093 - val_acc: 0.8020\n",
            "Epoch 8/20\n",
            "7982/7982 [==============================] - 1s 164us/step - loss: 0.3701 - acc: 0.9232 - val_loss: 0.9337 - val_acc: 0.7900\n",
            "Epoch 9/20\n",
            "7982/7982 [==============================] - 1s 159us/step - loss: 0.3036 - acc: 0.9316 - val_loss: 0.8921 - val_acc: 0.8050\n",
            "Epoch 10/20\n",
            "7982/7982 [==============================] - 1s 158us/step - loss: 0.2539 - acc: 0.9410 - val_loss: 0.9053 - val_acc: 0.8140\n",
            "Epoch 11/20\n",
            "7982/7982 [==============================] - 1s 159us/step - loss: 0.2181 - acc: 0.9476 - val_loss: 0.9159 - val_acc: 0.8090\n",
            "Epoch 12/20\n",
            "7982/7982 [==============================] - 1s 159us/step - loss: 0.1871 - acc: 0.9511 - val_loss: 0.9084 - val_acc: 0.8130\n",
            "Epoch 13/20\n",
            "7982/7982 [==============================] - 1s 157us/step - loss: 0.1701 - acc: 0.9524 - val_loss: 0.9308 - val_acc: 0.8090\n",
            "Epoch 14/20\n",
            "7982/7982 [==============================] - 1s 158us/step - loss: 0.1531 - acc: 0.9560 - val_loss: 0.9649 - val_acc: 0.8060\n",
            "Epoch 15/20\n",
            "7982/7982 [==============================] - 1s 159us/step - loss: 0.1388 - acc: 0.9559 - val_loss: 0.9682 - val_acc: 0.8130\n",
            "Epoch 16/20\n",
            "7982/7982 [==============================] - 1s 159us/step - loss: 0.1314 - acc: 0.9555 - val_loss: 1.0223 - val_acc: 0.8030\n",
            "Epoch 17/20\n",
            "7982/7982 [==============================] - 1s 159us/step - loss: 0.1220 - acc: 0.9578 - val_loss: 1.0217 - val_acc: 0.7990\n",
            "Epoch 18/20\n",
            "7982/7982 [==============================] - 1s 159us/step - loss: 0.1193 - acc: 0.9574 - val_loss: 1.0416 - val_acc: 0.8050\n",
            "Epoch 19/20\n",
            "7982/7982 [==============================] - 1s 159us/step - loss: 0.1137 - acc: 0.9590 - val_loss: 1.0982 - val_acc: 0.7950\n",
            "Epoch 20/20\n",
            "7982/7982 [==============================] - 1s 160us/step - loss: 0.1109 - acc: 0.9593 - val_loss: 1.0682 - val_acc: 0.7980\n"
          ],
          "name": "stdout"
        }
      ]
    },
    {
      "metadata": {
        "id": "82fcAHFht_2W",
        "colab_type": "code",
        "colab": {
          "base_uri": "https://localhost:8080/",
          "height": 376
        },
        "outputId": "1cd1ab15-3998-4fb0-d954-ec4de14bdafa"
      },
      "cell_type": "code",
      "source": [
        "import matplotlib.pyplot as plt\n",
        "\n",
        "loss = history.history['loss']\n",
        "val_loss = history.history['val_loss']\n",
        "\n",
        "epochs = range(1, len(loss) + 1)\n",
        "\n",
        "plt.plot(epochs, loss, 'bo', label='Training loss')\n",
        "plt.plot(epochs, val_loss, 'b', label='Validation loss')\n",
        "plt.title('Training and validation loss')\n",
        "plt.xlabel('Epochs')\n",
        "plt.ylabel('Loss')\n",
        "plt.legend()\n",
        "\n",
        "plt.show()"
      ],
      "execution_count": 14,
      "outputs": [
        {
          "output_type": "display_data",
          "data": {
            "image/png": "[encoded data removed]",
            "text/plain": [
              "<matplotlib.figure.Figure at 0x7fea2b03c810>"
            ]
          },
          "metadata": {
            "tags": []
          }
        }
      ]
    },
    {
      "metadata": {
        "id": "luCugEpAuBZd",
        "colab_type": "code",
        "colab": {
          "base_uri": "https://localhost:8080/",
          "height": 376
        },
        "outputId": "7714c173-3824-4776-bb60-3605b231f57c"
      },
      "cell_type": "code",
      "source": [
        "plt.clf()   # clear figure\n",
        "\n",
        "acc = history.history['acc']\n",
        "val_acc = history.history['val_acc']\n",
        "\n",
        "plt.plot(epochs, acc, 'bo', label='Training acc')\n",
        "plt.plot(epochs, val_acc, 'b', label='Validation acc')\n",
        "plt.title('Training and validation accuracy')\n",
        "plt.xlabel('Epochs')\n",
        "plt.ylabel('Loss')\n",
        "plt.legend()\n",
        "\n",
        "plt.show()"
      ],
      "execution_count": 15,
      "outputs": [
        {
          "output_type": "display_data",
          "data": {
            "image/png": "[encoded data removed]",
            "text/plain": [
              "<matplotlib.figure.Figure at 0x7fea2a807ad0>"
            ]
          },
          "metadata": {
            "tags": []
          }
        }
      ]
    },
    {
      "metadata": {
        "id": "3s-lDGGkuKi7",
        "colab_type": "code",
        "colab": {
          "base_uri": "https://localhost:8080/",
          "height": 323
        },
        "outputId": "01a70eb7-748d-42be-c4de-dd49f24f85f7"
      },
      "cell_type": "code",
      "source": [
        "model = models.Sequential()\n",
        "model.add(layers.Dense(64, activation='relu', input_shape=(10000,)))\n",
        "model.add(layers.Dense(64, activation='relu'))\n",
        "model.add(layers.Dense(46, activation='softmax'))\n",
        "\n",
        "model.compile(optimizer='rmsprop',\n",
        "              loss='categorical_crossentropy',\n",
        "              metrics=['accuracy'])\n",
        "model.fit(partial_x_train,\n",
        "          partial_y_train,\n",
        "          epochs=8,\n",
        "          batch_size=512,\n",
        "          validation_data=(x_val, y_val))\n",
        "results = model.evaluate(x_test, one_hot_test_labels)"
      ],
      "execution_count": 16,
      "outputs": [
        {
          "output_type": "stream",
          "text": [
            "Train on 7982 samples, validate on 1000 samples\n",
            "Epoch 1/8\n",
            "7982/7982 [==============================] - 1s 179us/step - loss: 2.5405 - acc: 0.5224 - val_loss: 1.6820 - val_acc: 0.6540\n",
            "Epoch 2/8\n",
            "7982/7982 [==============================] - 1s 165us/step - loss: 1.3778 - acc: 0.7103 - val_loss: 1.2820 - val_acc: 0.7200\n",
            "Epoch 3/8\n",
            "7982/7982 [==============================] - 1s 164us/step - loss: 1.0203 - acc: 0.7788 - val_loss: 1.1365 - val_acc: 0.7480\n",
            "Epoch 4/8\n",
            "7982/7982 [==============================] - 1s 161us/step - loss: 0.8038 - acc: 0.8241 - val_loss: 1.0585 - val_acc: 0.7530\n",
            "Epoch 5/8\n",
            "7982/7982 [==============================] - 1s 161us/step - loss: 0.6436 - acc: 0.8621 - val_loss: 0.9754 - val_acc: 0.8010\n",
            "Epoch 6/8\n",
            "7982/7982 [==============================] - 1s 160us/step - loss: 0.5151 - acc: 0.8918 - val_loss: 0.9120 - val_acc: 0.8120\n",
            "Epoch 7/8\n",
            "7982/7982 [==============================] - 1s 161us/step - loss: 0.4148 - acc: 0.9141 - val_loss: 0.8968 - val_acc: 0.8230\n",
            "Epoch 8/8\n",
            "7982/7982 [==============================] - 1s 161us/step - loss: 0.3375 - acc: 0.9278 - val_loss: 0.8768 - val_acc: 0.8250\n",
            "2246/2246 [==============================] - 0s 100us/step\n"
          ],
          "name": "stdout"
        }
      ]
    },
    {
      "metadata": {
        "id": "7ep208AcuPg-",
        "colab_type": "code",
        "colab": {
          "base_uri": "https://localhost:8080/",
          "height": 34
        },
        "outputId": "dabbcdc6-8da6-4d24-de97-c039e8b07c2d"
      },
      "cell_type": "code",
      "source": [
        "results"
      ],
      "execution_count": 17,
      "outputs": [
        {
          "output_type": "execute_result",
          "data": {
            "text/plain": [
              "[0.9873942651604289, 0.784060552092609]"
            ]
          },
          "metadata": {
            "tags": []
          },
          "execution_count": 17
        }
      ]
    }
  ]
}