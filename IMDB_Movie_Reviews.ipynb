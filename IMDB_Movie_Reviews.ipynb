{
  "nbformat": 4,
  "nbformat_minor": 0,
  "metadata": {
    "colab": {
      "name": "IMDB_Movie_Reviews.ipynb",
      "version": "0.3.2",
      "provenance": [],
      "include_colab_link": true
    },
    "kernelspec": {
      "name": "python2",
      "display_name": "Python 2"
    }
  },
  "cells": [
    {
      "cell_type": "markdown",
      "metadata": {
        "id": "view-in-github",
        "colab_type": "text"
      },
      "source": [
        "<a href=\"https://colab.research.google.com/github/ammarakarim2/Indus-AI/blob/master/IMDB_Movie_Reviews.ipynb\" target=\"_parent\"><img src=\"https://colab.research.google.com/assets/colab-badge.svg\" alt=\"Open In Colab\"/></a>"
      ]
    },
    {
      "metadata": {
        "id": "HMIoYmjyqPHX",
        "colab_type": "code",
        "colab": {
          "base_uri": "https://localhost:8080/",
          "height": 85
        },
        "outputId": "05bb37d1-5454-4d3b-ec8c-d4af49f3b5c7"
      },
      "cell_type": "code",
      "source": [
        "from keras.datasets import imdb \n",
        "\n",
        "(train_data, train_labels), (test_data, test_labels) = imdb.load_data(num_words = 10000)"
      ],
      "execution_count": 1,
      "outputs": [
        {
          "output_type": "stream",
          "text": [
            "Using TensorFlow backend.\n"
          ],
          "name": "stderr"
        },
        {
          "output_type": "stream",
          "text": [
            "Downloading data from https://s3.amazonaws.com/text-datasets/imdb.npz\n",
            "17465344/17464789 [==============================] - 1s 0us/step\n",
            "17473536/17464789 [==============================] - 1s 0us/step\n"
          ],
          "name": "stdout"
        }
      ]
    },
    {
      "metadata": {
        "id": "B11yl5zKqaGZ",
        "colab_type": "code",
        "colab": {
          "base_uri": "https://localhost:8080/",
          "height": 34
        },
        "outputId": "ecb8a1cc-8209-4cb3-ff70-77034b86da26"
      },
      "cell_type": "code",
      "source": [
        "max([max(sequence) for sequence in train_data])"
      ],
      "execution_count": 2,
      "outputs": [
        {
          "output_type": "execute_result",
          "data": {
            "text/plain": [
              "9999"
            ]
          },
          "metadata": {
            "tags": []
          },
          "execution_count": 2
        }
      ]
    },
    {
      "metadata": {
        "id": "zuldtu2IqmTw",
        "colab_type": "code",
        "colab": {
          "base_uri": "https://localhost:8080/",
          "height": 68
        },
        "outputId": "2ecaf9c0-0b58-4af5-8db0-007227df518b"
      },
      "cell_type": "code",
      "source": [
        "import collections\n",
        "\n",
        "word_index = imdb.get_word_index()\n",
        "reverse_word_index = dict(\n",
        "    [(value, key) for (value, key) in word_index.items()])\n",
        "\n",
        "decoded_review = ' '.join(\n",
        "    [reverse_word_index.get(i - 3, '?') for i in train_data[0]])"
      ],
      "execution_count": 3,
      "outputs": [
        {
          "output_type": "stream",
          "text": [
            "Downloading data from https://s3.amazonaws.com/text-datasets/imdb_word_index.json\n",
            "1646592/1641221 [==============================] - 0s 0us/step\n",
            "1654784/1641221 [==============================] - 0s 0us/step\n"
          ],
          "name": "stdout"
        }
      ]
    },
    {
      "metadata": {
        "id": "RS5XW58gqpkP",
        "colab_type": "code",
        "colab": {}
      },
      "cell_type": "code",
      "source": [
        "import numpy as np\n",
        "def vectorize_sequences(sequences, dimension=10000):\n",
        "    results = np.zeros((len(sequences), dimension))\n",
        "    for i, sequence in enumerate(sequences):\n",
        "        results[i, sequence] = 1.\n",
        "    return results\n",
        "\n",
        "x_train = vectorize_sequences(train_data)\n",
        "x_test = vectorize_sequences(test_data)"
      ],
      "execution_count": 0,
      "outputs": []
    },
    {
      "metadata": {
        "id": "8YaNeWHFqv8V",
        "colab_type": "code",
        "colab": {}
      },
      "cell_type": "code",
      "source": [
        "y_train = np.asarray(train_labels).astype('float32')\n",
        "y_test = np.asarray(test_labels).astype('float32')from keras import models"
      ],
      "execution_count": 0,
      "outputs": []
    },
    {
      "metadata": {
        "id": "QbiwikD3q7_b",
        "colab_type": "code",
        "colab": {}
      },
      "cell_type": "code",
      "source": [
        "from keras import models\n",
        "from keras import layers\n",
        "model = models.Sequential()\n",
        "model.add(layers.Dense(16, activation='relu', input_shape=(10000,)))\n",
        "model.add(layers.Dense(16, activation='relu'))\n",
        "model.add(layers.Dense(1, activation='sigmoid'))"
      ],
      "execution_count": 0,
      "outputs": []
    },
    {
      "metadata": {
        "id": "hXQ8-N83q9Sy",
        "colab_type": "code",
        "colab": {}
      },
      "cell_type": "code",
      "source": [
        "model.compile(optimizer='rmsprop',\n",
        "              loss='binary_crossentropy',\n",
        "              metrics=['accuracy'])"
      ],
      "execution_count": 0,
      "outputs": []
    },
    {
      "metadata": {
        "id": "kESYKX4urAt5",
        "colab_type": "code",
        "colab": {}
      },
      "cell_type": "code",
      "source": [
        "from keras import optimizers\n",
        "\n",
        "model.compile(optimizer=optimizers.RMSprop(lr=0.001),\n",
        "              loss='binary_crossentropy',\n",
        "              metrics=['accuracy'])"
      ],
      "execution_count": 0,
      "outputs": []
    },
    {
      "metadata": {
        "id": "KyP6_MfmrGFF",
        "colab_type": "code",
        "colab": {}
      },
      "cell_type": "code",
      "source": [
        "from keras import losses\n",
        "from keras import metrics\n",
        "\n",
        "model.compile(optimizer=optimizers.RMSprop(lr=0.001),\n",
        "              loss=losses.binary_crossentropy,\n",
        "              metrics=[metrics.binary_accuracy])"
      ],
      "execution_count": 0,
      "outputs": []
    },
    {
      "metadata": {
        "id": "r74DOH23rItw",
        "colab_type": "code",
        "colab": {}
      },
      "cell_type": "code",
      "source": [
        "x_val = x_train[:10000]\n",
        "partial_x_train = x_train[10000:]\n",
        "y_val = y_train[:10000]\n",
        "partial_y_train = y_train[10000:]"
      ],
      "execution_count": 0,
      "outputs": []
    },
    {
      "metadata": {
        "id": "xAemeN6qrcL9",
        "colab_type": "code",
        "colab": {
          "base_uri": "https://localhost:8080/",
          "height": 714
        },
        "outputId": "a0fc2c9c-81d6-4049-a84c-17c1d91785bb"
      },
      "cell_type": "code",
      "source": [
        "model.compile(optimizer='rmsprop',\n",
        "loss='binary_crossentropy',\n",
        "              metrics=['acc'])\n",
        "history = model.fit(partial_x_train,\n",
        "                    partial_y_train,\n",
        "                    epochs=20,\n",
        "                    batch_size=512,\n",
        "                    validation_data=(x_val, y_val))"
      ],
      "execution_count": 11,
      "outputs": [
        {
          "output_type": "stream",
          "text": [
            "Train on 15000 samples, validate on 10000 samples\n",
            "Epoch 1/20\n",
            "15000/15000 [==============================] - 3s 170us/step - loss: 0.5097 - acc: 0.7797 - val_loss: 0.3828 - val_acc: 0.8670\n",
            "Epoch 2/20\n",
            "15000/15000 [==============================] - 3s 177us/step - loss: 0.3013 - acc: 0.9038 - val_loss: 0.3000 - val_acc: 0.8902\n",
            "Epoch 3/20\n",
            "15000/15000 [==============================] - 3s 185us/step - loss: 0.2165 - acc: 0.9283 - val_loss: 0.3093 - val_acc: 0.8713\n",
            "Epoch 4/20\n",
            "15000/15000 [==============================] - 3s 183us/step - loss: 0.1725 - acc: 0.9437 - val_loss: 0.2821 - val_acc: 0.8857\n",
            "Epoch 5/20\n",
            "15000/15000 [==============================] - 3s 173us/step - loss: 0.1389 - acc: 0.9551 - val_loss: 0.2853 - val_acc: 0.8868\n",
            "Epoch 6/20\n",
            "15000/15000 [==============================] - 3s 173us/step - loss: 0.1110 - acc: 0.9665 - val_loss: 0.3133 - val_acc: 0.8783\n",
            "Epoch 7/20\n",
            "15000/15000 [==============================] - 3s 172us/step - loss: 0.0928 - acc: 0.9730 - val_loss: 0.3165 - val_acc: 0.8851\n",
            "Epoch 8/20\n",
            "15000/15000 [==============================] - 3s 176us/step - loss: 0.0756 - acc: 0.9779 - val_loss: 0.3859 - val_acc: 0.8654\n",
            "Epoch 9/20\n",
            "15000/15000 [==============================] - 3s 174us/step - loss: 0.0609 - acc: 0.9839 - val_loss: 0.3713 - val_acc: 0.8765\n",
            "Epoch 10/20\n",
            "15000/15000 [==============================] - 3s 178us/step - loss: 0.0499 - acc: 0.9871 - val_loss: 0.3903 - val_acc: 0.8796\n",
            "Epoch 11/20\n",
            "15000/15000 [==============================] - 3s 172us/step - loss: 0.0402 - acc: 0.9905 - val_loss: 0.4272 - val_acc: 0.8769\n",
            "Epoch 12/20\n",
            "15000/15000 [==============================] - 3s 173us/step - loss: 0.0340 - acc: 0.9928 - val_loss: 0.4814 - val_acc: 0.8641\n",
            "Epoch 13/20\n",
            "15000/15000 [==============================] - 3s 176us/step - loss: 0.0207 - acc: 0.9973 - val_loss: 0.4874 - val_acc: 0.8710\n",
            "Epoch 14/20\n",
            "15000/15000 [==============================] - 3s 172us/step - loss: 0.0223 - acc: 0.9950 - val_loss: 0.5245 - val_acc: 0.8731\n",
            "Epoch 15/20\n",
            "15000/15000 [==============================] - 3s 173us/step - loss: 0.0163 - acc: 0.9971 - val_loss: 0.5420 - val_acc: 0.8722\n",
            "Epoch 16/20\n",
            "15000/15000 [==============================] - 3s 177us/step - loss: 0.0100 - acc: 0.9995 - val_loss: 0.5844 - val_acc: 0.8705\n",
            "Epoch 17/20\n",
            "15000/15000 [==============================] - 3s 175us/step - loss: 0.0115 - acc: 0.9980 - val_loss: 0.6080 - val_acc: 0.8703\n",
            "Epoch 18/20\n",
            "15000/15000 [==============================] - 3s 173us/step - loss: 0.0093 - acc: 0.9987 - val_loss: 0.6386 - val_acc: 0.8687\n",
            "Epoch 19/20\n",
            "15000/15000 [==============================] - 3s 175us/step - loss: 0.0040 - acc: 0.9999 - val_loss: 0.7179 - val_acc: 0.8570\n",
            "Epoch 20/20\n",
            "15000/15000 [==============================] - 3s 175us/step - loss: 0.0083 - acc: 0.9978 - val_loss: 0.6953 - val_acc: 0.8688\n"
          ],
          "name": "stdout"
        }
      ]
    },
    {
      "metadata": {
        "id": "IKpaLAXnrhvL",
        "colab_type": "code",
        "colab": {
          "base_uri": "https://localhost:8080/",
          "height": 393
        },
        "outputId": "b8dabbb4-1815-457e-ce5b-1c8d0f486a83"
      },
      "cell_type": "code",
      "source": [
        "import matplotlib.pyplot as plt\n",
        "history_dict = history.history\n",
        "loss_values = history_dict['loss']\n",
        "val_loss_values = history_dict['val_loss']\n",
        "acc = history_dict['acc']\n",
        "epochs = list(range(1, len(acc) + 1))\n",
        "plt.plot(epochs, loss_values, 'bo', label='Training loss')\n",
        "plt.plot(epochs, val_loss_values, 'b', label='Validation loss')\n",
        "plt.title('Training and validation loss')\n",
        "plt.xlabel('Epochs')\n",
        "plt.ylabel('Loss')\n",
        "plt.legend()\n",
        "plt.show()\n",
        "print(\"Figure 3.7 Training and validation loss\")"
      ],
      "execution_count": 12,
      "outputs": [
        {
          "output_type": "display_data",
          "data": {
            "image/png": "[encoded data removed]",
            "text/plain": [
              "<matplotlib.figure.Figure at 0x7f88e45faf90>"
            ]
          },
          "metadata": {
            "tags": []
          }
        },
        {
          "output_type": "stream",
          "text": [
            "Figure 3.7 Training and validation loss\n"
          ],
          "name": "stdout"
        }
      ]
    },
    {
      "metadata": {
        "id": "ONdX0rqnr3V2",
        "colab_type": "code",
        "colab": {
          "base_uri": "https://localhost:8080/",
          "height": 393
        },
        "outputId": "f47ec7f9-5143-45a6-cb53-b892a10b8906"
      },
      "cell_type": "code",
      "source": [
        "plt.clf()\n",
        "acc_values = history_dict['acc']\n",
        "val_acc_values = history_dict['val_acc']\n",
        "plt.plot(epochs, acc, 'bo', label='Training acc')\n",
        "plt.plot(epochs, val_acc_values, 'b', label='Validation acc')\n",
        "plt.title('Training and validation accuracy')\n",
        "plt.xlabel('Epochs')\n",
        "plt.ylabel('Loss')\n",
        "plt.legend()\n",
        "plt.show()\n",
        "print(\"Figure 3.8 Training and validation accuracy\")\n"
      ],
      "execution_count": 13,
      "outputs": [
        {
          "output_type": "display_data",
          "data": {
            "image/png": "[encoded data removed]",
            "text/plain": [
              "<matplotlib.figure.Figure at 0x7f88e45fac10>"
            ]
          },
          "metadata": {
            "tags": []
          }
        },
        {
          "output_type": "stream",
          "text": [
            "Figure 3.8 Training and validation accuracy\n"
          ],
          "name": "stdout"
        }
      ]
    },
    {
      "metadata": {
        "id": "w-57EpYrr5en",
        "colab_type": "code",
        "colab": {
          "base_uri": "https://localhost:8080/",
          "height": 170
        },
        "outputId": "bfe08d40-7f2f-40a5-a6c3-62077f0f7ece"
      },
      "cell_type": "code",
      "source": [
        "model = models.Sequential()\n",
        "model.add(layers.Dense(16, activation='relu', input_shape=(10000,)))\n",
        "model.add(layers.Dense(16, activation='relu'))\n",
        "model.add(layers.Dense(1, activation='sigmoid'))\n",
        "model.compile(optimizer='rmsprop',\n",
        "              loss='binary_crossentropy',\n",
        "              metrics=['accuracy'])\n",
        "model.fit(x_train, y_train, epochs=4, batch_size=512)\n",
        "results = model.evaluate(x_test, y_test)"
      ],
      "execution_count": 14,
      "outputs": [
        {
          "output_type": "stream",
          "text": [
            "Epoch 1/4\n",
            "25000/25000 [==============================] - 3s 129us/step - loss: 0.4745 - acc: 0.8217\n",
            "Epoch 2/4\n",
            "25000/25000 [==============================] - 3s 123us/step - loss: 0.2657 - acc: 0.9097\n",
            "Epoch 3/4\n",
            "25000/25000 [==============================] - 3s 122us/step - loss: 0.1982 - acc: 0.9294\n",
            "Epoch 4/4\n",
            "25000/25000 [==============================] - 3s 121us/step - loss: 0.1678 - acc: 0.9400\n",
            "25000/25000 [==============================] - 2s 81us/step\n"
          ],
          "name": "stdout"
        }
      ]
    }
  ]
}